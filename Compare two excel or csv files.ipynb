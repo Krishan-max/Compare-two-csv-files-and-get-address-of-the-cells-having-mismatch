{
 "cells": [
  {
   "cell_type": "code",
   "execution_count": 16,
   "id": "d6b37e54",
   "metadata": {},
   "outputs": [],
   "source": [
    "#Project to compare two files and return the cell address (row number, column header) having differences"
   ]
  },
  {
   "cell_type": "code",
   "execution_count": 8,
   "id": "0b5a9d98",
   "metadata": {},
   "outputs": [],
   "source": [
    "import pandas as pd\n",
    "import numpy as np"
   ]
  },
  {
   "cell_type": "code",
   "execution_count": 165,
   "id": "92d75c68",
   "metadata": {},
   "outputs": [
    {
     "name": "stdout",
     "output_type": "stream",
     "text": [
      "No. of mismatchs: 6\n",
      "\n",
      "List of mismatchs\n",
      "(7, 'Territory id')\n",
      "(7, 'Territory name')\n",
      "(7, 'Rank')\n",
      "(8, 'District Name')\n",
      "(8, 'Rank')\n",
      "(9, 'Rank')\n"
     ]
    }
   ],
   "source": [
    "#Read two files to be compared as pandas dataframe\n",
    "df1=pd.read_csv(r\"C:\\Users\\dell\\Downloads\\abc2.csv\")\n",
    "df2=pd.read_csv(r\"C:\\Users\\dell\\Downloads\\abc.csv\")\n",
    "#Compare the two dataframes cell by cell. This will return a 2D array containg True or False \n",
    "#dependinhg on whether the values in cells are equal or not\n",
    "comp=df1.values==df2.values\n",
    "compd=pd.DataFrame(comp)\n",
    "#Create a dictionary which contains mapping between column number and column name or header\n",
    "count=1\n",
    "colhead=list(df1.columns)\n",
    "col_name_num_map=dict()\n",
    "for head in colhead:\n",
    "    col_name_num_map[count]=head\n",
    "    count=count+1\n",
    "#Find address of cells having False in in the compd dataframe i.e. values not matching in two files \n",
    "list_of_cells=[]\n",
    "rows,cols=np.where(compd==False)\n",
    "for item in zip(rows+7,cols+1):\n",
    "    it=list(item)\n",
    "    it[1]=col_name_num_map[item[1]]\n",
    "    item=tuple(it)\n",
    "    if \"Unnamed\" not in item[1]:\n",
    "        list_of_cells.append(item)\n",
    "#Print count of mismatch and address of cells with mismatch\n",
    "print(\"No. of mismatchs:\",len(list_of_cells))\n",
    "print()\n",
    "print(\"List of mismatchs\")\n",
    "for l in list_of_cells:\n",
    "    print(l)"
   ]
  },
  {
   "cell_type": "code",
   "execution_count": null,
   "id": "bbfa3864",
   "metadata": {},
   "outputs": [],
   "source": []
  }
 ],
 "metadata": {
  "kernelspec": {
   "display_name": "Python 3 (ipykernel)",
   "language": "python",
   "name": "python3"
  },
  "language_info": {
   "codemirror_mode": {
    "name": "ipython",
    "version": 3
   },
   "file_extension": ".py",
   "mimetype": "text/x-python",
   "name": "python",
   "nbconvert_exporter": "python",
   "pygments_lexer": "ipython3",
   "version": "3.7.13"
  }
 },
 "nbformat": 4,
 "nbformat_minor": 5
}
